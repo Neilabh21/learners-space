{
 "cells": [
  {
   "cell_type": "markdown",
   "metadata": {},
   "source": [
    "# Assignment 3 for LS Python"
   ]
  },
  {
   "cell_type": "markdown",
   "metadata": {},
   "source": [
    "So this week you learnt about Classes and Objects in Python, the concept of Inheritance and then concepts like Encapsulation, Polymorphism, function overloading. Let us know solve some questions to make those concepts concrete!"
   ]
  },
  {
   "cell_type": "markdown",
   "metadata": {},
   "source": [
    "## Question 1"
   ]
  },
  {
   "cell_type": "markdown",
   "metadata": {},
   "source": [
    "Write a Python Class to reverse a string **word** by **word**. \n",
    "\n",
    "**Input** : 'hello .py'\n",
    "\n",
    "**Output**: 'py. hello'\n",
    "\n",
    "(Remember that you have already done such questions before, just apply that knowledge to words instead of letters or numbers)\n",
    "\n",
    "Hint: use predefined methods to 'split' a string and then work ahead from there\n",
    "\n",
    "<img src=\"https://www.w3resource.com/w3r_images/python-class-image-exercise-8.svg\" alt=\"q1\" width=\"500\"/>"
   ]
  },
  {
   "cell_type": "code",
   "execution_count": 1,
   "metadata": {},
   "outputs": [
    {
     "name": "stdout",
     "output_type": "stream",
     "text": [
      "Example 1:\n",
      ".py hello\n",
      "\n",
      "Example 2:\n",
      "Class Python\n"
     ]
    }
   ],
   "source": [
    "# Define a class Return the reversed string (word by word)\n",
    "class String:\n",
    "    \n",
    "    # Constructor\n",
    "    def __init__(self, string):\n",
    "        self.string = string\n",
    "        self.rev_string = ' '.join(string.split()[::-1])\n",
    "\n",
    "# Print the Reversed String\n",
    "print(\"Example 1:\")\n",
    "Example_1 = String(\"hello .py\")\n",
    "print(Example_1.rev_string)\n",
    "\n",
    "print(\"\\nExample 2:\")\n",
    "Example_2 = String(\"Python Class\")\n",
    "print(Example_2.rev_string)"
   ]
  },
  {
   "cell_type": "markdown",
   "metadata": {},
   "source": [
    "## Question 2"
   ]
  },
  {
   "cell_type": "markdown",
   "metadata": {},
   "source": [
    "Write a Python Class to implement to convert an integer to a roman numeral. \n",
    "\n",
    "Example:\n",
    "\n",
    "**Input** : 23\n",
    "\n",
    "**Output** : XXIII\n",
    "\n",
    "Make sure that you are storing only the '**required**' roman numerals, so that by using only these predefined roman numerals, your program should be able to convert any given input integer to its corresponding roman numeral. \n",
    "\n",
    "Hint : To make this question easier, you can use the information that the maximum number of special numbers (and their roman numerals) you can use is **13**, and using only these numbers, the program should work for any integer.\n",
    "\n",
    "**NOTE**: \n",
    "* Consider that the maximum input integer can not be more than 4999, because after 4999, you require more than 13 symbols to represent numbers.\n",
    "* For the purpose of this question, assume that 4999 is written using normal roman symbols as **'MMMMCMXCIX'** and can not be written in any other way. \n"
   ]
  },
  {
   "cell_type": "code",
   "execution_count": 4,
   "metadata": {},
   "outputs": [
    {
     "name": "stdout",
     "output_type": "stream",
     "text": [
      "I II III IV V VI VII VIII IX X XI XII XIII XIV XV XVI XVII XVIII XIX XX XXI XXII XXIII XXIV XXV XXVI XXVII XXVIII XXIX XXX XXXI XXXII XXXIII XXXIV XXXV XXXVI XXXVII XXXVIII XXXIX XL XLI XLII XLIII XLIV XLV XLVI XLVII XLVIII XLIX L LI LII LIII LIV LV LVI LVII LVIII LIX LX LXI LXII LXIII LXIV LXV LXVI LXVII LXVIII LXIX LXX LXXI LXXII LXXIII LXXIV LXXV LXXVI LXXVII LXXVIII LXXIX LXXX LXXXI LXXXII LXXXIII LXXXIV LXXXV LXXXVI LXXXVII LXXXVIII LXXXIX XC XCI XCII XCIII XCIV XCV XCVI XCVII XCVIII XCIX C\n",
      "\n",
      "MCMLXXXVIII\n",
      "\n",
      "MMMMDCCCLXXXVIII\n",
      "\n",
      "MMMMCMXCIX\n"
     ]
    }
   ],
   "source": [
    "# Define a class using the appropriate lists for storing roman numerals and the final logic of the code. \n",
    "class Number:\n",
    "    \n",
    "    # Constructor\n",
    "    def __init__(self, num):\n",
    "        self.num = num\n",
    "        num = [1, 4, 5, 9, 10, 40, 50, 90, 100, 400, 500, 900, 1000]\n",
    "        sym = ['I', 'IV', 'V', 'IX', 'X', 'XL', 'L', 'XC', 'C', 'CD', 'D', 'CM', 'M']\n",
    "        roman_num = []\n",
    "        temp = self.num\n",
    "        for i in range(0, 13):\n",
    "            div = temp // num[12 - i]\n",
    "            temp = temp % num[12 - i]\n",
    "            roman_num.append(sym[12 - i] * div)\n",
    "        self.roman_num = ''.join(roman_num)    \n",
    "\n",
    "# Your code:\n",
    "Roman_Num = []\n",
    "for i in range(101):\n",
    "    Roman_Num.append(Number(i).roman_num)\n",
    "print(' '.join(Roman_Num)[1:])\n",
    "print()\n",
    "print(Number(1988).roman_num)\n",
    "print()\n",
    "print(Number(4888).roman_num)\n",
    "print()\n",
    "print(Number(4999).roman_num)"
   ]
  },
  {
   "cell_type": "markdown",
   "metadata": {},
   "source": [
    "## Question 3"
   ]
  },
  {
   "cell_type": "markdown",
   "metadata": {},
   "source": [
    "Write a Python Class to implement pow(x,n).\n",
    "\n",
    "Note that **n** is a Real Number, i.e, n can be negative or a fraction, so your program should be able to answer any given combination of x and n. \n",
    "\n",
    "Example: \n",
    "\n",
    "**Input** : \n",
    "<br>(2,-3)\n",
    "<br>(3, 5)\n",
    "<br>(2, 0.7)\n",
    "\n",
    "**Output** : \n",
    "<br> 0.125\n",
    "<br> 243\n",
    "<br> 1.6245\n"
   ]
  },
  {
   "cell_type": "code",
   "execution_count": 5,
   "metadata": {},
   "outputs": [
    {
     "name": "stdout",
     "output_type": "stream",
     "text": [
      "0.125\n",
      "243\n",
      "1.624504792712471\n",
      "\n",
      "2 -3\n",
      "0.125\n"
     ]
    }
   ],
   "source": [
    "# Define a single method in a class which takes in (x,n) as the input. \n",
    "class pow:\n",
    "    \n",
    "    # Initialisation\n",
    "    def __init__(self, x, n):\n",
    "        self.value = x ** n\n",
    "\n",
    "# Your code\n",
    "print(pow(2, -3).value)\n",
    "print(pow(3, 5).value)\n",
    "print(pow(2, 0.7).value)\n",
    "print()\n",
    "\n",
    "x, n = [int(x) for x in input().split()]\n",
    "print(pow(x, n).value)"
   ]
  },
  {
   "cell_type": "markdown",
   "metadata": {},
   "source": [
    "## Question 4"
   ]
  },
  {
   "cell_type": "markdown",
   "metadata": {},
   "source": [
    "Write a Python class to get all possible unique subsets from a **set** of distinct integers. \n",
    "\n",
    "(Remember that a set is another data structure similar to lists, tuples, etc. So make sure that you use 'set' in your program)\n",
    "\n",
    "Example:\n",
    "\n",
    "**Input**: {4,5,6}\n",
    "\n",
    "**Output** : {}, {4}, {5}, {6}, {4,5}, {5,6}, {4,6}, {4,5,6}\n",
    "\n",
    "Hint : Try to construct the logic for the code using your knowledge of creating the **Power Set** of a set.\n",
    "\n",
    "<img src=\"https://www.w3resource.com/w3r_images/python-class-image-exercise-4.svg\" alt=\"q4\" width=\"500\"/>"
   ]
  },
  {
   "cell_type": "code",
   "execution_count": 4,
   "metadata": {},
   "outputs": [
    {
     "data": {
      "text/plain": [
       "[set(), {4}, {5}, {6}, {4, 5}, {4, 6}, {5, 6}, {4, 5, 6}]"
      ]
     },
     "execution_count": 4,
     "metadata": {},
     "output_type": "execute_result"
    }
   ],
   "source": [
    "# Define a class with 2 methods. \n",
    "class py_solution:\n",
    "    \n",
    "    # Initialisation\n",
    "    def __init__(self):\n",
    "        self.power_set = [set()]\n",
    "        \n",
    "    def sub_sets(self, s):\n",
    "        for element in s:\n",
    "            one_element_set = {element}\n",
    "            # print(one_element_set)\n",
    "            self.power_set += [subset | one_element_set for subset in self.power_set]\n",
    "            # print(power_set)\n",
    "            self.power_set.sort(key = len)\n",
    "        return self.power_set\n",
    "# Your code\n",
    "py_solution().sub_sets({4,5,6})"
   ]
  },
  {
   "cell_type": "markdown",
   "metadata": {},
   "source": [
    "## Question 5"
   ]
  },
  {
   "cell_type": "markdown",
   "metadata": {},
   "source": [
    "In this question, your task is to deal 1 card from a deck of 52 cards and display it as your output. \n",
    "\n",
    "Define a class called as **'deck'**, representing a deck of cards. Internally, the **'deck'** of cards class should use another class, a **'card'** class. Your requirements are:\n",
    "* The **Deck** class should have a **deal** method to deal a single card from the deck.\n",
    "* After a card is dealt, it is removed from the deck.\n",
    "* There should be a **shuffle** method which makes sure the deck of cards has all 52 cards and then rearranges them **randomly**.\n",
    "* The **Card** class should have a Suit (Hearts, Diamonds, Clubs, Spades) and a Value (A,2,3,4,5,6,7,8,9,10,J,Q,K).\n",
    "\n",
    "\n",
    "\n",
    "**Example Output** :\n",
    "<br>'2 of Spades'\n",
    "<br>'Jack of Diamonds'\n",
    "\n",
    "\n",
    "(Note: For shuffling the deck everytime you deal a card from the deck, you can import predefined modules, for eg: '**random**' is one such module from which you can call the '**shuffle**' method) \n",
    "\n",
    "**Make sure to attempt this question using Inheritance.**"
   ]
  },
  {
   "cell_type": "code",
   "execution_count": 63,
   "metadata": {},
   "outputs": [
    {
     "name": "stdout",
     "output_type": "stream",
     "text": [
      "\bDealt cards:\n",
      "6 of Hearts\n",
      "6 of Spades\n",
      "\n",
      "Remaining Deck:\n",
      "Ace of Hearts\n",
      "2 of Hearts\n",
      "3 of Hearts\n",
      "4 of Hearts\n",
      "5 of Hearts\n",
      "7 of Hearts\n",
      "8 of Hearts\n",
      "9 of Hearts\n",
      "10 of Hearts\n",
      "Jack of Hearts\n",
      "Queen of Hearts\n",
      "King of Hearts\n",
      "Ace of Diamonds\n",
      "2 of Diamonds\n",
      "3 of Diamonds\n",
      "4 of Diamonds\n",
      "5 of Diamonds\n",
      "6 of Diamonds\n",
      "7 of Diamonds\n",
      "8 of Diamonds\n",
      "9 of Diamonds\n",
      "10 of Diamonds\n",
      "Jack of Diamonds\n",
      "Queen of Diamonds\n",
      "King of Diamonds\n",
      "Ace of Clubs\n",
      "2 of Clubs\n",
      "3 of Clubs\n",
      "4 of Clubs\n",
      "5 of Clubs\n",
      "6 of Clubs\n",
      "7 of Clubs\n",
      "8 of Clubs\n",
      "9 of Clubs\n",
      "10 of Clubs\n",
      "Jack of Clubs\n",
      "Queen of Clubs\n",
      "King of Clubs\n",
      "Ace of Spades\n",
      "2 of Spades\n",
      "3 of Spades\n",
      "4 of Spades\n",
      "5 of Spades\n",
      "7 of Spades\n",
      "8 of Spades\n",
      "9 of Spades\n",
      "10 of Spades\n",
      "Jack of Spades\n",
      "Queen of Spades\n",
      "King of Spades\n"
     ]
    }
   ],
   "source": [
    "# Define two classes - Deck and Card.\n",
    "class Card:\n",
    "    SUITS = ['Hearts', 'Diamonds', 'Clubs', 'Spades']\n",
    "    VALUES = ['Ace', '2', '3', '4', '5', '6', '7', '8', '9', '10', 'Jack', 'Queen', 'King']\n",
    "    \n",
    "    # Initialisation\n",
    "    def __init__(self, suit=0, value=0):\n",
    "        self.suit = suit\n",
    "        self.value = value\n",
    "        \n",
    "    def __str__(self):\n",
    "        \"\"\"\n",
    "          >>> print(Card(2, 11))\n",
    "          Queen of Hearts\n",
    "        \"\"\"\n",
    "        return '{0} of {1}'.format(Card.VALUES[self.value], Card.SUITS[self.suit])\n",
    "\n",
    "class Deck:\n",
    "    def __init__(self):\n",
    "        self.cards = []\n",
    "        for suit in range(4):\n",
    "            for value in range(13):\n",
    "                self.cards.append(Card(suit, value))\n",
    "                \n",
    "    def print_deck(self):\n",
    "        for card in self.cards:\n",
    "            print(card)\n",
    "    \n",
    "    def __str__(self):\n",
    "        s = \"\"\n",
    "        for i in range(len(self.cards)):\n",
    "            s += str(self.cards[i]) + \"\\n\"\n",
    "        return s\n",
    "    \n",
    "    def shuffle(self):\n",
    "        import random\n",
    "        num_cards = len(self.cards)\n",
    "        for i in range(num_cards):\n",
    "            j = random.randrange(i, num_cards)\n",
    "            self.cards[i], self.cards[j] = self.cards[j], self.cards[i]\n",
    "            \n",
    "    def unshuffle(self):\n",
    "        self.temp_cards = []\n",
    "        for suit in range(4):\n",
    "            for value in range(13):\n",
    "                for k in range(len(self.cards)):\n",
    "                    if (self.cards[k].suit == suit and self.cards[k].value == value):\n",
    "                        self.temp_cards.append(Card(suit, value))\n",
    "                        # print(Card(suit, value))\n",
    "        self.cards = self.temp_cards\n",
    "            \n",
    "    def remove(self, card):\n",
    "        if card in self.cards:\n",
    "            self.cards.remove(card)\n",
    "            return True\n",
    "        else:\n",
    "            return False\n",
    "    \n",
    "    def pop(self):\n",
    "        return self.cards.pop()\n",
    "    \n",
    "    def deal(self):\n",
    "        for i in range(2):\n",
    "            card = self.pop()           # take the top card\n",
    "            print(card)\n",
    "    \n",
    "# Your code. \n",
    "deck = Deck()\n",
    "deck.shuffle()\n",
    "print('Dealt cards:')\n",
    "deck.deal()\n",
    "deck.unshuffle()\n",
    "print('\\nRemaining Deck:')\n",
    "deck.print_deck()"
   ]
  },
  {
   "cell_type": "code",
   "execution_count": null,
   "metadata": {},
   "outputs": [],
   "source": []
  },
  {
   "cell_type": "code",
   "execution_count": null,
   "metadata": {},
   "outputs": [],
   "source": []
  }
 ],
 "metadata": {
  "kernelspec": {
   "display_name": "Python 3",
   "language": "python",
   "name": "python3"
  }
 },
 "nbformat": 4,
 "nbformat_minor": 2
}
