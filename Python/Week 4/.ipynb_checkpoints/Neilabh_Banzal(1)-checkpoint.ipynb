{
 "cells": [
  {
   "cell_type": "code",
   "execution_count": 22,
   "metadata": {},
   "outputs": [
    {
     "ename": "ModuleNotFoundError",
     "evalue": "No module named 'scipy'",
     "output_type": "error",
     "traceback": [
      "\u001b[1;31m---------------------------------------------------------------------------\u001b[0m",
      "\u001b[1;31mModuleNotFoundError\u001b[0m                       Traceback (most recent call last)",
      "\u001b[1;32m<ipython-input-22-a30ddf143fc5>\u001b[0m in \u001b[0;36m<module>\u001b[1;34m\u001b[0m\n\u001b[0;32m      1\u001b[0m \u001b[1;32mimport\u001b[0m \u001b[0mnumpy\u001b[0m \u001b[1;32mas\u001b[0m \u001b[0mnp\u001b[0m\u001b[1;33m\u001b[0m\u001b[1;33m\u001b[0m\u001b[0m\n\u001b[0;32m      2\u001b[0m \u001b[1;32mimport\u001b[0m \u001b[0mmatplotlib\u001b[0m\u001b[1;33m.\u001b[0m\u001b[0mpyplot\u001b[0m \u001b[1;32mas\u001b[0m \u001b[0mplt\u001b[0m\u001b[1;33m\u001b[0m\u001b[1;33m\u001b[0m\u001b[0m\n\u001b[1;32m----> 3\u001b[1;33m \u001b[1;32mfrom\u001b[0m \u001b[0mscipy\u001b[0m\u001b[1;33m.\u001b[0m\u001b[0msignal\u001b[0m \u001b[1;32mimport\u001b[0m \u001b[0msavgol_filter\u001b[0m\u001b[1;33m\u001b[0m\u001b[1;33m\u001b[0m\u001b[0m\n\u001b[0m",
      "\u001b[1;31mModuleNotFoundError\u001b[0m: No module named 'scipy'"
     ]
    }
   ],
   "source": [
    "import numpy as np\n",
    "import matplotlib.pyplot as plt\n",
    "from scipy.signal import savgol_filter"
   ]
  },
  {
   "cell_type": "code",
   "execution_count": 23,
   "metadata": {},
   "outputs": [],
   "source": [
    "def savgol_filter(x, window_length, polyorder, deriv=0, delta=1.0,\n",
    "                  axis=-1, mode='interp', cval=0.0):\n",
    "    \"\"\" Apply a Savitzky-Golay filter to an array.\n",
    "    This is a 1-D filter. If `x`  has dimension greater than 1, `axis`\n",
    "    determines the axis along which the filter is applied.\n",
    "    Parameters\n",
    "    ----------\n",
    "    x : array_like\n",
    "        The data to be filtered. If `x` is not a single or double precision\n",
    "        floating point array, it will be converted to type ``numpy.float64``\n",
    "        before filtering.\n",
    "    window_length : int\n",
    "        The length of the filter window (i.e., the number of coefficients).\n",
    "        `window_length` must be a positive odd integer. If `mode` is 'interp',\n",
    "        `window_length` must be less than or equal to the size of `x`.\n",
    "    polyorder : int\n",
    "        The order of the polynomial used to fit the samples.\n",
    "        `polyorder` must be less than `window_length`.\n",
    "    deriv : int, optional\n",
    "        The order of the derivative to compute. This must be a\n",
    "        nonnegative integer. The default is 0, which means to filter\n",
    "        the data without differentiating.\n",
    "    delta : float, optional\n",
    "        The spacing of the samples to which the filter will be applied.\n",
    "        This is only used if deriv > 0. Default is 1.0.\n",
    "    axis : int, optional\n",
    "        The axis of the array `x` along which the filter is to be applied.\n",
    "        Default is -1.\n",
    "    mode : str, optional\n",
    "        Must be 'mirror', 'constant', 'nearest', 'wrap' or 'interp'. This\n",
    "        determines the type of extension to use for the padded signal to\n",
    "        which the filter is applied.  When `mode` is 'constant', the padding\n",
    "        value is given by `cval`.  See the Notes for more details on 'mirror',\n",
    "        'constant', 'wrap', and 'nearest'.\n",
    "        When the 'interp' mode is selected (the default), no extension\n",
    "        is used.  Instead, a degree `polyorder` polynomial is fit to the\n",
    "        last `window_length` values of the edges, and this polynomial is\n",
    "        used to evaluate the last `window_length // 2` output values.\n",
    "    cval : scalar, optional\n",
    "        Value to fill past the edges of the input if `mode` is 'constant'.\n",
    "        Default is 0.0.\n",
    "    Returns\n",
    "    -------\n",
    "    y : ndarray, same shape as `x`\n",
    "        The filtered data.\n",
    "    See Also\n",
    "    --------\n",
    "    savgol_coeffs\n",
    "    Notes\n",
    "    -----\n",
    "    Details on the `mode` options:\n",
    "        'mirror':\n",
    "            Repeats the values at the edges in reverse order. The value\n",
    "            closest to the edge is not included.\n",
    "        'nearest':\n",
    "            The extension contains the nearest input value.\n",
    "        'constant':\n",
    "            The extension contains the value given by the `cval` argument.\n",
    "        'wrap':\n",
    "            The extension contains the values from the other end of the array.\n",
    "    For example, if the input is [1, 2, 3, 4, 5, 6, 7, 8], and\n",
    "    `window_length` is 7, the following shows the extended data for\n",
    "    the various `mode` options (assuming `cval` is 0)::\n",
    "        mode       |   Ext   |         Input          |   Ext\n",
    "        -----------+---------+------------------------+---------\n",
    "        'mirror'   | 4  3  2 | 1  2  3  4  5  6  7  8 | 7  6  5\n",
    "        'nearest'  | 1  1  1 | 1  2  3  4  5  6  7  8 | 8  8  8\n",
    "        'constant' | 0  0  0 | 1  2  3  4  5  6  7  8 | 0  0  0\n",
    "        'wrap'     | 6  7  8 | 1  2  3  4  5  6  7  8 | 1  2  3\n",
    "    .. versionadded:: 0.14.0\n",
    "    Examples\n",
    "    --------\n",
    "    >>> from scipy.signal import savgol_filter\n",
    "    >>> np.set_printoptions(precision=2)  # For compact display.\n",
    "    >>> x = np.array([2, 2, 5, 2, 1, 0, 1, 4, 9])\n",
    "    Filter with a window length of 5 and a degree 2 polynomial.  Use\n",
    "    the defaults for all other parameters.\n",
    "    >>> savgol_filter(x, 5, 2)\n",
    "    array([1.66, 3.17, 3.54, 2.86, 0.66, 0.17, 1.  , 4.  , 9.  ])\n",
    "    Note that the last five values in x are samples of a parabola, so\n",
    "    when mode='interp' (the default) is used with polyorder=2, the last\n",
    "    three values are unchanged. Compare that to, for example,\n",
    "    `mode='nearest'`:\n",
    "    >>> savgol_filter(x, 5, 2, mode='nearest')\n",
    "    array([1.74, 3.03, 3.54, 2.86, 0.66, 0.17, 1.  , 4.6 , 7.97])\n",
    "    \"\"\"\n",
    "    if mode not in [\"mirror\", \"constant\", \"nearest\", \"interp\", \"wrap\"]:\n",
    "        raise ValueError(\"mode must be 'mirror', 'constant', 'nearest' \"\n",
    "                         \"'wrap' or 'interp'.\")\n",
    "\n",
    "    x = np.asarray(x)\n",
    "    # Ensure that x is either single or double precision floating point.\n",
    "    if x.dtype != np.float64 and x.dtype != np.float32:\n",
    "        x = x.astype(np.float64)\n",
    "\n",
    "    coeffs = savgol_coeffs(window_length, polyorder, deriv=deriv, delta=delta)\n",
    "\n",
    "    if mode == \"interp\":\n",
    "        if window_length > x.size:\n",
    "            raise ValueError(\"If mode is 'interp', window_length must be less \"\n",
    "                             \"than or equal to the size of x.\")\n",
    "\n",
    "        # Do not pad. Instead, for the elements within `window_length // 2`\n",
    "        # of the ends of the sequence, use the polynomial that is fitted to\n",
    "        # the last `window_length` elements.\n",
    "        y = convolve1d(x, coeffs, axis=axis, mode=\"constant\")\n",
    "        _fit_edges_polyfit(x, window_length, polyorder, deriv, delta, axis, y)\n",
    "    else:\n",
    "        # Any mode other than 'interp' is passed on to ndimage.convolve1d.\n",
    "        y = convolve1d(x, coeffs, axis=axis, mode=mode, cval=cval)\n",
    "\n",
    "    return y"
   ]
  },
  {
   "cell_type": "code",
   "execution_count": 16,
   "metadata": {},
   "outputs": [
    {
     "name": "stdout",
     "output_type": "stream",
     "text": [
      "[0.    0.    0.    0.005 0.018 0.034 0.045 0.069 0.092 0.115 0.129 0.107\n",
      " 0.12  0.097 0.074 0.042 0.029 0.024]\n"
     ]
    },
    {
     "data": {
      "image/png": "[encoded data removed]",
      "text/plain": [
       "<Figure size 432x288 with 1 Axes>"
      ]
     },
     "metadata": {
      "needs_background": "light"
     },
     "output_type": "display_data"
    }
   ],
   "source": [
    "# Generating an array of 1000 rolls of 3 die\n",
    "rolls = np.random.randint(1, 7, size = (3, 1000))\n",
    "\n",
    "# Calculating the sum\n",
    "sum_of_rolls = np.sum(rolls, axis = 0)\n",
    "\n",
    "# Plot Histogram\n",
    "n, bins, kwargs = plt.hist(sum_of_rolls, bins = np.arange(19), density = True, histtype = 'step');\n",
    "plt.plot()"
   ]
  },
  {
   "cell_type": "code",
   "execution_count": 24,
   "metadata": {},
   "outputs": [
    {
     "ename": "NameError",
     "evalue": "name 'savgol_coeffs' is not defined",
     "output_type": "error",
     "traceback": [
      "\u001b[1;31m---------------------------------------------------------------------------\u001b[0m",
      "\u001b[1;31mNameError\u001b[0m                                 Traceback (most recent call last)",
      "\u001b[1;32m<ipython-input-24-c5bca6ff6be8>\u001b[0m in \u001b[0;36m<module>\u001b[1;34m\u001b[0m\n\u001b[1;32m----> 1\u001b[1;33m \u001b[0mplt\u001b[0m\u001b[1;33m.\u001b[0m\u001b[0mplot\u001b[0m\u001b[1;33m(\u001b[0m\u001b[0msavgol_filter\u001b[0m\u001b[1;33m(\u001b[0m\u001b[0mbins\u001b[0m\u001b[1;33m[\u001b[0m\u001b[1;36m1\u001b[0m\u001b[1;33m:\u001b[0m\u001b[1;33m]\u001b[0m\u001b[1;33m,\u001b[0m \u001b[1;36m5\u001b[0m\u001b[1;33m,\u001b[0m \u001b[1;36m3\u001b[0m\u001b[1;33m)\u001b[0m \u001b[1;33m-\u001b[0m \u001b[1;36m0.5\u001b[0m\u001b[1;33m,\u001b[0m \u001b[0mn\u001b[0m\u001b[1;33m)\u001b[0m\u001b[1;33m\u001b[0m\u001b[1;33m\u001b[0m\u001b[0m\n\u001b[0m",
      "\u001b[1;32m<ipython-input-23-ed8284badad1>\u001b[0m in \u001b[0;36msavgol_filter\u001b[1;34m(x, window_length, polyorder, deriv, delta, axis, mode, cval)\u001b[0m\n\u001b[0;32m     94\u001b[0m         \u001b[0mx\u001b[0m \u001b[1;33m=\u001b[0m \u001b[0mx\u001b[0m\u001b[1;33m.\u001b[0m\u001b[0mastype\u001b[0m\u001b[1;33m(\u001b[0m\u001b[0mnp\u001b[0m\u001b[1;33m.\u001b[0m\u001b[0mfloat64\u001b[0m\u001b[1;33m)\u001b[0m\u001b[1;33m\u001b[0m\u001b[1;33m\u001b[0m\u001b[0m\n\u001b[0;32m     95\u001b[0m \u001b[1;33m\u001b[0m\u001b[0m\n\u001b[1;32m---> 96\u001b[1;33m     \u001b[0mcoeffs\u001b[0m \u001b[1;33m=\u001b[0m \u001b[0msavgol_coeffs\u001b[0m\u001b[1;33m(\u001b[0m\u001b[0mwindow_length\u001b[0m\u001b[1;33m,\u001b[0m \u001b[0mpolyorder\u001b[0m\u001b[1;33m,\u001b[0m \u001b[0mderiv\u001b[0m\u001b[1;33m=\u001b[0m\u001b[0mderiv\u001b[0m\u001b[1;33m,\u001b[0m \u001b[0mdelta\u001b[0m\u001b[1;33m=\u001b[0m\u001b[0mdelta\u001b[0m\u001b[1;33m)\u001b[0m\u001b[1;33m\u001b[0m\u001b[1;33m\u001b[0m\u001b[0m\n\u001b[0m\u001b[0;32m     97\u001b[0m \u001b[1;33m\u001b[0m\u001b[0m\n\u001b[0;32m     98\u001b[0m     \u001b[1;32mif\u001b[0m \u001b[0mmode\u001b[0m \u001b[1;33m==\u001b[0m \u001b[1;34m\"interp\"\u001b[0m\u001b[1;33m:\u001b[0m\u001b[1;33m\u001b[0m\u001b[1;33m\u001b[0m\u001b[0m\n",
      "\u001b[1;31mNameError\u001b[0m: name 'savgol_coeffs' is not defined"
     ]
    }
   ],
   "source": [
    "plt.plot(savgol_filter(bins[1:], 5, 3) - 0.5, n)"
   ]
  },
  {
   "cell_type": "code",
   "execution_count": null,
   "metadata": {},
   "outputs": [],
   "source": []
  }
 ],
 "metadata": {
  "kernelspec": {
   "display_name": "Python 3",
   "language": "python",
   "name": "python3"
  },
  "language_info": {
   "codemirror_mode": {
    "name": "ipython",
    "version": 3
   },
   "file_extension": ".py",
   "mimetype": "text/x-python",
   "name": "python",
   "nbconvert_exporter": "python",
   "pygments_lexer": "ipython3",
   "version": "3.8.3"
  }
 },
 "nbformat": 4,
 "nbformat_minor": 4
}
