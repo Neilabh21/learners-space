{
 "cells": [
  {
   "cell_type": "markdown",
   "metadata": {
    "colab_type": "text",
    "id": "c6XTebfetsT3"
   },
   "source": [
    "# **Python Generators**\n",
    "\n",
    "In this tutorial, you'll learn how to create iterations easily using Python generators, how it is different from iterators and normal functions, and why you should use it."
   ]
  },
  {
   "cell_type": "markdown",
   "metadata": {
    "colab_type": "text",
    "id": "7BZfhR45tvbA"
   },
   "source": [
    "There is a lot of work in building an iterator in Python. We have to implement a class with <code>__iter__()</code> and <code>__next__()</code> method, keep track of internal states, and raise StopIteration when there are no values to be returned.\n",
    "\n",
    "This is both lengthy and counterintuitive. Generator comes to the rescue in such situations.\n",
    "\n",
    "Python generators are a simple way of creating iterators. All the work we mentioned above are automatically handled by generators in Python.\n",
    "\n",
    "Simply speaking, a generator is a function that returns an object (iterator) which we can iterate over (one value at a time)."
   ]
  },
  {
   "cell_type": "markdown",
   "metadata": {
    "colab_type": "text",
    "id": "hjVY7e_EuD8v"
   },
   "source": [
    "### **Create Generators in Python**\n",
    "\n",
    "It is fairly simple to create a generator in Python. It is as easy as defining a normal function, but with a yield statement instead of a return statement.\n",
    "\n",
    "If a function contains at least one yield statement (it may contain other yield or return statements), it becomes a generator function. Both yield and return will return some value from a function.\n",
    "\n",
    "The difference is that while a return statement terminates a function entirely, yield statement pauses the function saving all its states and later continues from there on successive calls."
   ]
  },
  {
   "cell_type": "markdown",
   "metadata": {
    "colab_type": "text",
    "id": "4H7stj4AvJaN"
   },
   "source": [
    "**Differences between Generator function and Normal function**\n",
    "\n",
    "Here is how a generator function differs from a normal function.\n",
    "\n",
    "* Generator function contains one or more yield statements.\n",
    "\n",
    "* When called, it returns an object (iterator) but does not start execution immediately.\n",
    "\n",
    "* Methods like <code>__iter__()</code> and <code>__next__()</code> are implemented automatically. So we can iterate through the items using next().\n",
    "\n",
    "* Once the function yields, the function is paused and the control is transferred to the caller.\n",
    "\n",
    "* Local variables and their states are remembered between successive calls.\n",
    "Finally, when the function terminates, StopIteration is raised automatically on further calls.\n",
    "\n",
    "Here is an example to illustrate all of the points stated above. We have a generator function named my_gen() with several yield statements"
   ]
  },
  {
   "cell_type": "code",
   "execution_count": 1,
   "metadata": {
    "colab": {},
    "colab_type": "code",
    "id": "Hdx3eNOXvYF9"
   },
   "outputs": [],
   "source": [
    "# A simple generator function\n",
    "def my_gen():\n",
    "    n = 1\n",
    "    print('This is printed first')\n",
    "    # Generator function contains yield statements\n",
    "    yield n\n",
    "\n",
    "    n += 1\n",
    "    print('This is printed second')\n",
    "    yield n\n",
    "\n",
    "    n += 1\n",
    "    print('This is printed at last')\n",
    "    yield n\n",
    "\n",
    "\n",
    "# Run the next 5 cells one by one in orderly manner after running this one."
   ]
  },
  {
   "cell_type": "code",
   "execution_count": 2,
   "metadata": {
    "colab": {},
    "colab_type": "code",
    "id": "0SKxbImOxqit"
   },
   "outputs": [],
   "source": [
    "# It returns an object but does not start execution immediately.\n",
    "a = my_gen()"
   ]
  },
  {
   "cell_type": "code",
   "execution_count": 3,
   "metadata": {
    "colab": {
     "base_uri": "https://localhost:8080/",
     "height": 51
    },
    "colab_type": "code",
    "id": "DqTlwTzvx7RU",
    "outputId": "1bee1b0e-40fa-4711-9429-624c8f493152"
   },
   "outputs": [
    {
     "name": "stdout",
     "output_type": "stream",
     "text": [
      "This is printed first\n"
     ]
    },
    {
     "data": {
      "text/plain": [
       "1"
      ]
     },
     "execution_count": 3,
     "metadata": {},
     "output_type": "execute_result"
    }
   ],
   "source": [
    "# We can iterate through the items using next().\n",
    "next(a)"
   ]
  },
  {
   "cell_type": "code",
   "execution_count": 4,
   "metadata": {
    "colab": {
     "base_uri": "https://localhost:8080/",
     "height": 51
    },
    "colab_type": "code",
    "id": "Hd8EUGAHx9va",
    "outputId": "51bdc851-07e8-43f5-9ff6-7e8def495488"
   },
   "outputs": [
    {
     "name": "stdout",
     "output_type": "stream",
     "text": [
      "This is printed second\n"
     ]
    },
    {
     "data": {
      "text/plain": [
       "2"
      ]
     },
     "execution_count": 4,
     "metadata": {},
     "output_type": "execute_result"
    }
   ],
   "source": [
    "# Once the function yields, the function is paused and the control is transferred to the caller.\n",
    "\n",
    "# Local variables and theirs states are remembered between successive calls.\n",
    "next(a)"
   ]
  },
  {
   "cell_type": "code",
   "execution_count": 5,
   "metadata": {
    "colab": {
     "base_uri": "https://localhost:8080/",
     "height": 51
    },
    "colab_type": "code",
    "id": "hdx4ZT0vyBMQ",
    "outputId": "59e44431-a9a3-4421-a364-496954a695a6"
   },
   "outputs": [
    {
     "name": "stdout",
     "output_type": "stream",
     "text": [
      "This is printed at last\n"
     ]
    },
    {
     "data": {
      "text/plain": [
       "3"
      ]
     },
     "execution_count": 5,
     "metadata": {},
     "output_type": "execute_result"
    }
   ],
   "source": [
    "next(a)"
   ]
  },
  {
   "cell_type": "code",
   "execution_count": 6,
   "metadata": {
    "colab": {
     "base_uri": "https://localhost:8080/",
     "height": 180
    },
    "colab_type": "code",
    "id": "lqCJBciJyGjy",
    "outputId": "94ec72e2-a6af-42d2-b9b1-3e665666a428"
   },
   "outputs": [
    {
     "ename": "StopIteration",
     "evalue": "",
     "output_type": "error",
     "traceback": [
      "\u001b[1;31m---------------------------------------------------------------------------\u001b[0m",
      "\u001b[1;31mStopIteration\u001b[0m                             Traceback (most recent call last)",
      "\u001b[1;32m<ipython-input-6-23d7f63eb6ab>\u001b[0m in \u001b[0;36m<module>\u001b[1;34m\u001b[0m\n\u001b[0;32m      1\u001b[0m \u001b[1;31m# Finally, when the function terminates, StopIteration is raised automatically on further calls.\u001b[0m\u001b[1;33m\u001b[0m\u001b[1;33m\u001b[0m\u001b[1;33m\u001b[0m\u001b[0m\n\u001b[1;32m----> 2\u001b[1;33m \u001b[0mnext\u001b[0m\u001b[1;33m(\u001b[0m\u001b[0ma\u001b[0m\u001b[1;33m)\u001b[0m\u001b[1;33m\u001b[0m\u001b[1;33m\u001b[0m\u001b[0m\n\u001b[0m",
      "\u001b[1;31mStopIteration\u001b[0m: "
     ]
    }
   ],
   "source": [
    "# Finally, when the function terminates, StopIteration is raised automatically on further calls.\n",
    "next(a)"
   ]
  },
  {
   "cell_type": "markdown",
   "metadata": {
    "colab_type": "text",
    "id": "pb--ioDpzfUD"
   },
   "source": [
    "One interesting thing to note in the above example is that the value of variable n is remembered between each call.\n",
    "\n",
    "Unlike normal functions, the local variables are not destroyed when the function yields. Furthermore, the generator object can be iterated only once.\n",
    "\n",
    "To restart the process we need to create another generator object using something like a = my_gen().\n",
    "\n",
    "One final thing to note is that we can use generators with for loops directly.\n",
    "\n",
    "This is because a for loop takes an iterator and iterates over it using next() function. It automatically ends when StopIteration is raised. Check here to know how a for loop is actually implemented in Python"
   ]
  },
  {
   "cell_type": "code",
   "execution_count": 7,
   "metadata": {
    "colab": {},
    "colab_type": "code",
    "id": "ezhwkkf1zuN7"
   },
   "outputs": [
    {
     "name": "stdout",
     "output_type": "stream",
     "text": [
      "This is printed first\n",
      "1\n",
      "This is printed second\n",
      "2\n",
      "This is printed at last\n",
      "3\n"
     ]
    }
   ],
   "source": [
    "# A simple generator function\n",
    "def my_gen():\n",
    "    n = 1\n",
    "    print('This is printed first')\n",
    "    # Generator function contains yield statements\n",
    "    yield n\n",
    "\n",
    "    n += 1\n",
    "    print('This is printed second')\n",
    "    yield n\n",
    "\n",
    "    n += 1\n",
    "    print('This is printed at last')\n",
    "    yield n\n",
    "\n",
    "\n",
    "# Using for loop\n",
    "for item in my_gen():\n",
    "    print(item)"
   ]
  },
  {
   "cell_type": "markdown",
   "metadata": {
    "colab_type": "text",
    "id": "dEgrJGWwzxsY"
   },
   "source": [
    "### **Python Generators with a Loop**\n",
    "\n",
    "The above example is of less use and we studied it just to get an idea of what was happening in the background.\n",
    "\n",
    "Normally, generator functions are implemented with a loop having a suitable terminating condition.\n",
    "\n",
    "Let's take an example of a generator that reverses a string."
   ]
  },
  {
   "cell_type": "code",
   "execution_count": 8,
   "metadata": {
    "colab": {
     "base_uri": "https://localhost:8080/",
     "height": 102
    },
    "colab_type": "code",
    "id": "R7WDyLGW-Jd8",
    "outputId": "6d235fc2-82ee-4fcd-9538-aa93a2cf4d9e"
   },
   "outputs": [
    {
     "name": "stdout",
     "output_type": "stream",
     "text": [
      "h\n",
      "e\n",
      "l\n",
      "l\n",
      "o\n"
     ]
    }
   ],
   "source": [
    "def rev_str(my_str):\n",
    "    length = len(my_str)\n",
    "    for i in range(length):\n",
    "        yield my_str[i]\n",
    "\n",
    "\n",
    "# For loop to reverse the string\n",
    "for char in rev_str(\"hello\"):\n",
    "    print(char)"
   ]
  },
  {
   "cell_type": "markdown",
   "metadata": {
    "colab_type": "text",
    "id": "ZNjZZLuv-Snj"
   },
   "source": [
    "### **Python Generator Expression**\n",
    "\n",
    "Simple generators can be easily created on the fly using generator expressions. It makes building generators easy.\n",
    "\n",
    "Similar to the lambda functions which create anonymous functions, generator expressions create anonymous generator functions.\n",
    "\n",
    "The syntax for generator expression is similar to that of a list comprehension in Python. But the square brackets are replaced with round parentheses.\n",
    "\n",
    "The major difference between a list comprehension and a generator expression is that a list comprehension produces the entire list while the generator expression produces one item at a time.\n",
    "\n",
    "They have lazy execution ( producing items only when asked for ). For this reason, a generator expression is much more memory efficient than an equivalent list comprehension"
   ]
  },
  {
   "cell_type": "code",
   "execution_count": 9,
   "metadata": {
    "colab": {
     "base_uri": "https://localhost:8080/",
     "height": 51
    },
    "colab_type": "code",
    "id": "yLTXRuFJBYxd",
    "outputId": "abf998b3-aa5e-45d0-8fff-09f3b7b59db7"
   },
   "outputs": [
    {
     "name": "stdout",
     "output_type": "stream",
     "text": [
      "[1, 9, 36, 100]\n",
      "<generator object <genexpr> at 0x00000183E5584F20>\n"
     ]
    }
   ],
   "source": [
    "# Initialize the list\n",
    "my_list = [1, 3, 6, 10]\n",
    "\n",
    "# square each term using list comprehension\n",
    "list_ = [x**2 for x in my_list]\n",
    "\n",
    "# same thing can be done using a generator expression\n",
    "# generator expressions are surrounded by parenthesis ()\n",
    "generator = (x**2 for x in my_list)\n",
    "\n",
    "print(list_)\n",
    "print(generator)"
   ]
  },
  {
   "cell_type": "markdown",
   "metadata": {
    "colab_type": "text",
    "id": "weRec8NUBf4v"
   },
   "source": [
    "We can see above that the generator expression did not produce the required result immediately. Instead, it returned a generator object, which produces items only on demand.\n",
    "\n",
    "Here is how we can start getting items from the generator:"
   ]
  },
  {
   "cell_type": "code",
   "execution_count": 10,
   "metadata": {
    "colab": {
     "base_uri": "https://localhost:8080/",
     "height": 265
    },
    "colab_type": "code",
    "id": "BMlP1z2QBhMm",
    "outputId": "da9850de-10d7-4353-fd5e-481eb20bae0c"
   },
   "outputs": [
    {
     "name": "stdout",
     "output_type": "stream",
     "text": [
      "1\n",
      "9\n",
      "36\n",
      "100\n"
     ]
    },
    {
     "ename": "StopIteration",
     "evalue": "",
     "output_type": "error",
     "traceback": [
      "\u001b[1;31m---------------------------------------------------------------------------\u001b[0m",
      "\u001b[1;31mStopIteration\u001b[0m                             Traceback (most recent call last)",
      "\u001b[1;32m<ipython-input-10-2e4c086b429f>\u001b[0m in \u001b[0;36m<module>\u001b[1;34m\u001b[0m\n\u001b[0;32m     11\u001b[0m \u001b[0mprint\u001b[0m\u001b[1;33m(\u001b[0m\u001b[0mnext\u001b[0m\u001b[1;33m(\u001b[0m\u001b[0ma\u001b[0m\u001b[1;33m)\u001b[0m\u001b[1;33m)\u001b[0m\u001b[1;33m\u001b[0m\u001b[1;33m\u001b[0m\u001b[0m\n\u001b[0;32m     12\u001b[0m \u001b[1;33m\u001b[0m\u001b[0m\n\u001b[1;32m---> 13\u001b[1;33m \u001b[0mnext\u001b[0m\u001b[1;33m(\u001b[0m\u001b[0ma\u001b[0m\u001b[1;33m)\u001b[0m \u001b[1;31m#Error\u001b[0m\u001b[1;33m\u001b[0m\u001b[1;33m\u001b[0m\u001b[0m\n\u001b[0m",
      "\u001b[1;31mStopIteration\u001b[0m: "
     ]
    }
   ],
   "source": [
    "# Initialize the list\n",
    "my_list = [1, 3, 6, 10]\n",
    "\n",
    "a = (x**2 for x in my_list)\n",
    "print(next(a))\n",
    "\n",
    "print(next(a))\n",
    "\n",
    "print(next(a))\n",
    "\n",
    "print(next(a))\n",
    "\n",
    "next(a) #Error"
   ]
  },
  {
   "cell_type": "markdown",
   "metadata": {
    "colab_type": "text",
    "id": "WHhPd5PmBnSC"
   },
   "source": [
    "Generator expressions can be used as function arguments. When used in such a way, the round parentheses can be dropped."
   ]
  },
  {
   "cell_type": "code",
   "execution_count": 11,
   "metadata": {
    "colab": {
     "base_uri": "https://localhost:8080/",
     "height": 51
    },
    "colab_type": "code",
    "id": "_LHUDSRpButP",
    "outputId": "ce9be859-5122-4ba4-d11c-cb2b48d09267"
   },
   "outputs": [
    {
     "name": "stdout",
     "output_type": "stream",
     "text": [
      "146\n",
      "100\n"
     ]
    }
   ],
   "source": [
    "s = sum(x**2 for x in my_list)\n",
    "print(s)\n",
    "m = max(x**2 for x in my_list)\n",
    "print(m)"
   ]
  },
  {
   "cell_type": "markdown",
   "metadata": {
    "colab_type": "text",
    "id": "yHWK4Mr_B9Fx"
   },
   "source": [
    "# **Advantages of using Generators**\n",
    "<br>\n",
    "<br>\n",
    "\n",
    "**1.Easy to Implement**\n",
    "\n",
    "Generators can be implemented in a clear and concise way as compared to their iterator class counterpart. Following is an example to implement a sequence of power of 2 using an iterator class.\n",
    "\n",
    "<code>  class PowTwo:\n",
    "\n",
    "          def __init__(self, max=0):\n",
    "      \n",
    "              self.n = 0\n",
    "      \n",
    "              self.max = max\n",
    "\n",
    "          def __iter__(self):\n",
    "      \n",
    "              return self\n",
    "\n",
    "          def __next__(self):\n",
    "      \n",
    "              if self.n > self.max:\n",
    "      \n",
    "                  raise StopIteration\n",
    "\n",
    "              result = 2 ** self.n\n",
    "              \n",
    "              self.n += 1\n",
    "              \n",
    "              return result\n",
    "\n",
    "</code>\n",
    "\n",
    "The above program was lengthy and confusing. Now, let's do the same using a generator function.\n",
    "\n",
    "\n",
    "<code>def PowTwoGen(max=0):\n",
    "\n",
    "        n = 0\n",
    "\n",
    "        while n < max:\n",
    "\n",
    "            yield 2 ** n\n",
    "\n",
    "            n += 1\n",
    "\n",
    "</code>\n",
    "\n",
    "Since generators keep track of details automatically, the implementation was concise and much cleaner.\n",
    "\n",
    "**2.Memory Efficient**\n",
    "\n",
    "A normal function to return a sequence will create the entire sequence in memory before returning the result. This is an overkill, if the number of items in the sequence is very large.\n",
    "\n",
    "Generator implementation of such sequences is memory friendly and is preferred since it only produces one item at a time.\n",
    "\n",
    "**3.Represent Infinite Stream**\n",
    "\n",
    "Generators are excellent mediums to represent an infinite stream of data. Infinite streams cannot be stored in memory, and since generators produce only one item at a time, they can represent an infinite stream of data.\n",
    "\n",
    "The following generator function can generate all the even numbers (at least in theory).\n",
    "\n",
    "<code>def all_even():\n",
    "    \n",
    "        n = 0\n",
    "    \n",
    "        while True:\n",
    "    \n",
    "            yield n\n",
    "    \n",
    "            n += 2\n",
    "</code>\n",
    "\n",
    "**4.Pipelining Generators**\n",
    "\n",
    "Multiple generators can be used to pipeline a series of operations. This is best illustrated using an example.\n",
    "\n",
    "Suppose we have a generator that produces the numbers in the Fibonacci series. And we have another generator for squaring numbers.\n",
    "\n",
    "If we want to find out the sum of squares of numbers in the Fibonacci series, we can do it in the following way by pipelining the output of generator functions together.\n",
    "\n",
    "<code>def fibonacci_numbers(nums):\n",
    "          \n",
    "          x, y = 0, 1\n",
    "          \n",
    "          for _ in range(nums):\n",
    "          \n",
    "              x, y = y, x+y\n",
    "          \n",
    "              yield x\n",
    " \n",
    "     def square(nums):\n",
    "      \n",
    "          for num in nums:\n",
    "      \n",
    "              yield num**2\n",
    "\n",
    "     print(sum(square(fibonacci_numbers(10))))\n",
    "</code>"
   ]
  },
  {
   "cell_type": "code",
   "execution_count": null,
   "metadata": {},
   "outputs": [],
   "source": [
    "def fibonacci_numbers(nums):\n",
    "    x, y = 0, 1\n",
    "    for _ in range(nums):\n",
    "        x, y = y, x+y\n",
    "        yield x\n",
    "\n",
    " def square(nums):\n",
    "\n",
    "      for num in nums:\n",
    "\n",
    "          yield num**2\n",
    "\n",
    " print(sum(square(fibonacci_numbers(10))))"
   ]
  }
 ],
 "metadata": {
  "colab": {
   "name": "Notebook3.ipynb",
   "provenance": []
  },
  "kernelspec": {
   "display_name": "Python 3",
   "language": "python",
   "name": "python3"
  },
  "language_info": {
   "codemirror_mode": {
    "name": "ipython",
    "version": 3
   },
   "file_extension": ".py",
   "mimetype": "text/x-python",
   "name": "python",
   "nbconvert_exporter": "python",
   "pygments_lexer": "ipython3",
   "version": "3.8.3"
  }
 },
 "nbformat": 4,
 "nbformat_minor": 1
}
