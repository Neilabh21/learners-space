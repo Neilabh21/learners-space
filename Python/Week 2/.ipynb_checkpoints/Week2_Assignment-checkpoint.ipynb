{
 "cells": [
  {
   "cell_type": "markdown",
   "metadata": {
    "colab_type": "text",
    "id": "Fb4udPnBJLx2"
   },
   "source": [
    "# **Welcome to the Second Assignment of the Course**\n",
    "\n",
    "As you now have sufficient knowledge of functions and data structures, you have entered the phase of calling yourself a Python Programmer. Hope you enjoy solving this Assignment. "
   ]
  },
  {
   "cell_type": "markdown",
   "metadata": {
    "colab_type": "text",
    "id": "ao87EXHCdTeS"
   },
   "source": [
    "# **1) IPL and RCB** \n",
    "\n",
    "It's IPL time and as usual RCB are finding it tough to qualify for playoffs. RCB needs a minimum of X more points to qualify for playoffs in their remaining Y matches. A win, tie and loss in a match will yield 2,1,0 points respectively to a team.\n",
    "\n",
    "You being a true RCB supporter want to find the minimum number of matches RCB needs to win to qualify for playoffs. It is guaranteed that RCB will qualify for playoffs if they win all their remaining Y matches. Write a function to determine the minimum number of matches RCB should win to qualify for the playoffs.\n",
    "<hr>\n",
    "\n",
    "Input:\n",
    "\n",
    "First line will contain T, number of testcases. Then the testcases follow.\n",
    "Each testcase contains of a single line of input, two space separated integers X,Y\n",
    "\n",
    "Output:\n",
    "\n",
    "For each testcase, output in a single line the minimum number of matches RCB must win to qualify for playoffs.\n",
    "\n",
    "Constraints :\n",
    "\n",
    "1≤T≤10000\n",
    "\n",
    "1≤X≤100\n",
    "\n",
    "1≤Y≤100\n",
    "\n",
    "1≤X≤2⋅Y\n",
    "\n",
    "Sample Input:\n",
    "\n",
    "2\n",
    "\n",
    "10 5\n",
    "\n",
    "1 5\n",
    "\n",
    "Sample Output:\n",
    "\n",
    "5\n",
    "\n",
    "0\n",
    "\n",
    "Explanation:\n",
    "\n",
    "In first case X=10 and Y=5, so RCB needs 10 points from remaining 5 matches \n",
    "to qualify for playoffs. It is only possible if they win all their \n",
    "remaining 5 matches.\n",
    "\n",
    "In second case X=1 and Y=5, so RCB needs 1 points from their remaining 5 \n",
    "matches to qualify for playoffs. It can be done if they tie any one of their 5 matches and lose the remaining 4. So they need to win 0 matches"
   ]
  },
  {
   "cell_type": "code",
   "execution_count": null,
   "metadata": {
    "colab": {},
    "colab_type": "code",
    "id": "oisamlhxdSsp"
   },
   "outputs": [],
   "source": [
    "# Write a function\n",
    "\n",
    "# Call the function"
   ]
  },
  {
   "cell_type": "markdown",
   "metadata": {
    "colab_type": "text",
    "id": "jVlPocQWKzUz"
   },
   "source": [
    "# **2) Special Sum**\n",
    "\n",
    "Given an array of size N and two integers K and S, the special sum of an array is defined as follows:\n",
    "\n",
    "(Sum of all elements of the array) * (K - p * S)\n",
    "\n",
    "Where p = number of distinct prime factors of “product of all elements of the array”.\n",
    "\n",
    "Write a function to find the special sum by considering all elements of the given array.\n",
    "<hr>\n",
    "\n",
    "Input:\n",
    "\n",
    "First line contains 3 integers N, K and S.\n",
    "\n",
    "Second line contains N integers, the elements of the array.\n",
    "\n",
    "Output:\n",
    "\n",
    "Output a single integer. The special sum considering all elements of the array.\n",
    "\n",
    "Sample Input:\n",
    "\n",
    "4 10 2\n",
    "\n",
    "14 2 7 15\n",
    "\n",
    "Sample Output:\n",
    "\n",
    "138\n",
    "\n",
    "Sample Explanation:\n",
    "\n",
    "Consider the array {14, 2, 7}\n",
    "\n",
    "Total number of distinct prime factors in it is 2 (2 and 7).\n",
    "\n",
    "Therefore, value of special sum is (14 + 2 + 7) * (10 - 2 * 2) = 138.\n",
    "\n",
    "Hint: You can write 2 functions. 1st, to find if the factor is prime and 2nd, to find the special sum. You are free to use any other method if you want.  "
   ]
  },
  {
   "cell_type": "code",
   "execution_count": null,
   "metadata": {
    "colab": {},
    "colab_type": "code",
    "id": "tqEmSTnBPgNd"
   },
   "outputs": [],
   "source": [
    "# import necessary modules\n",
    "\n",
    "# Write a function to find if the number is prime.\n",
    "\n",
    "# Write a function to find special sum. Pass Array, K ans S as the parameters. Return Special Sum.\n",
    "\n",
    "# Take inputs from the user\n",
    "\n",
    "# Call the function"
   ]
  },
  {
   "cell_type": "markdown",
   "metadata": {
    "colab_type": "text",
    "id": "bOcK1MfGQFNS"
   },
   "source": [
    "# **3) Recaman’s sequence**\n",
    "\n",
    "Given an integer n.  Write a function to print first n elements of Recaman’s sequence.\n",
    "\n",
    "a(0) = 0,\n",
    "\n",
    "if n > 0 and the number a(n) is not \n",
    "\n",
    "   already included in the sequence or is non-positive,\n",
    "\n",
    "     a(n) = a(n - 1) - n \n",
    "\n",
    "else \n",
    "\n",
    "     a(n) = a(n-1) + n.\n",
    "\n",
    "<hr>     \n",
    "\n",
    "Input:\n",
    "\n",
    "Integer n>0\n",
    "\n",
    "Output:\n",
    "\n",
    "Array of Recaman's Sequence in ascending order.\n",
    "\n",
    "Examples:\n",
    "\n",
    "Input : n = 6\n",
    "\n",
    "Output : {[0, 1, 3, 6, 2, 7]}\n",
    "\n",
    "Input  : n = 17\n",
    "\n",
    "Output : {[0, 1, 3, 6, 2, 7, 13, 20, 12, 21, \n",
    "         11, 22, 10, 23, 9, 24, 8]}\n",
    "<br><br>\n",
    "Hint: Use Recursion         "
   ]
  },
  {
   "cell_type": "code",
   "execution_count": null,
   "metadata": {
    "colab": {},
    "colab_type": "code",
    "id": "AlDhHP70ZRY1"
   },
   "outputs": [],
   "source": [
    "# import necessary modules\n",
    "\n",
    "# Write a recursive function taking n as input.\n",
    "\n",
    "# Call the function.\n",
    "\n",
    "# You can add anything else to this code if you feel it is required."
   ]
  },
  {
   "cell_type": "markdown",
   "metadata": {
    "colab_type": "text",
    "id": "CfhmZMxqaDIp"
   },
   "source": [
    "# **4) Fit Square**\n",
    "\n",
    "What is the maximum number of squares of size 2x2 that can be fit in a right angled isosceles triangle of base B.\n",
    "\n",
    "One side of the square must be parallel to the base of the isosceles triangle.\n",
    "\n",
    "Base is the shortest side of the triangle\n",
    "\n",
    "Input:\n",
    "\n",
    "First line contains T, the number of test cases.\n",
    "\n",
    "Each of the following T lines contains 1 integer B.\n",
    "\n",
    "Output:\n",
    "\n",
    "Output exactly T lines, each line containing the required answer.\n",
    "\n",
    "Constraints\n",
    "\n",
    "1 ≤ T ≤ 103\n",
    "\n",
    "1 ≤ B ≤ 104\n",
    "\n",
    "Sample Input:\n",
    "\n",
    "11\n",
    "\n",
    "1\n",
    "\n",
    "2\n",
    "\n",
    "3\n",
    "\n",
    "4\n",
    "\n",
    "5\n",
    "\n",
    "6\n",
    "\n",
    "7\n",
    "\n",
    "8\n",
    "\n",
    "9\n",
    "\n",
    "10\n",
    "\n",
    "11\n",
    "\n",
    "Sample Output:\n",
    "\n",
    "0\n",
    "\n",
    "0\n",
    "\n",
    "0\n",
    "\n",
    "1\n",
    "\n",
    "1\n",
    "\n",
    "3\n",
    "\n",
    "3\n",
    "\n",
    "6\n",
    "\n",
    "6\n",
    "\n",
    "10\n",
    "\n",
    "10"
   ]
  },
  {
   "cell_type": "code",
   "execution_count": null,
   "metadata": {
    "colab": {},
    "colab_type": "code",
    "id": "dalmoVrTi5k-"
   },
   "outputs": [],
   "source": [
    "# You Can Do It !!!"
   ]
  },
  {
   "cell_type": "markdown",
   "metadata": {
    "colab_type": "text",
    "id": "4sbdWCFsjJ_d"
   },
   "source": [
    "<hr>"
   ]
  }
 ],
 "metadata": {
  "colab": {
   "name": "Week2-Assignment.ipynb",
   "provenance": []
  },
  "kernelspec": {
   "display_name": "Python 3",
   "language": "python",
   "name": "python3"
  },
  "language_info": {
   "codemirror_mode": {
    "name": "ipython",
    "version": 3
   },
   "file_extension": ".py",
   "mimetype": "text/x-python",
   "name": "python",
   "nbconvert_exporter": "python",
   "pygments_lexer": "ipython3",
   "version": "3.8.3"
  }
 },
 "nbformat": 4,
 "nbformat_minor": 1
}
