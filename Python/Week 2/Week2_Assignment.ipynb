{
 "cells": [
  {
   "cell_type": "markdown",
   "metadata": {
    "colab_type": "text",
    "id": "Fb4udPnBJLx2"
   },
   "source": [
    "# **Welcome to the Second Assignment of the Course**\n",
    "\n",
    "As you now have sufficient knowledge of functions and data structures, you have entered the phase of calling yourself a Python Programmer. Hope you enjoy solving this Assignment. "
   ]
  },
  {
   "cell_type": "markdown",
   "metadata": {
    "colab_type": "text",
    "id": "ao87EXHCdTeS"
   },
   "source": [
    "# **1) IPL and RCB** \n",
    "\n",
    "It's IPL time and as usual RCB are finding it tough to qualify for playoffs. RCB needs a minimum of X more points to qualify for playoffs in their remaining Y matches. A win, tie and loss in a match will yield 2,1,0 points respectively to a team.\n",
    "\n",
    "You being a true RCB supporter want to find the minimum number of matches RCB needs to win to qualify for playoffs. It is guaranteed that RCB will qualify for playoffs if they win all their remaining Y matches. Write a function to determine the minimum number of matches RCB should win to qualify for the playoffs.\n",
    "<hr>\n",
    "\n",
    "Input:\n",
    "\n",
    "First line will contain T, number of testcases. Then the testcases follow.\n",
    "Each testcase contains of a single line of input, two space separated integers X,Y\n",
    "\n",
    "Output:\n",
    "\n",
    "For each testcase, output in a single line the minimum number of matches RCB must win to qualify for playoffs.\n",
    "\n",
    "Constraints :\n",
    "\n",
    "1≤T≤10000\n",
    "\n",
    "1≤X≤100\n",
    "\n",
    "1≤Y≤100\n",
    "\n",
    "1≤X≤2⋅Y\n",
    "\n",
    "Sample Input:\n",
    "\n",
    "2\n",
    "\n",
    "10 5\n",
    "\n",
    "1 5\n",
    "\n",
    "Sample Output:\n",
    "\n",
    "5\n",
    "\n",
    "0\n",
    "\n",
    "Explanation:\n",
    "\n",
    "In first case X=10 and Y=5, so RCB needs 10 points from remaining 5 matches \n",
    "to qualify for playoffs. It is only possible if they win all their \n",
    "remaining 5 matches.\n",
    "\n",
    "In second case X=1 and Y=5, so RCB needs 1 points from their remaining 5 \n",
    "matches to qualify for playoffs. It can be done if they tie any one of their 5 matches and lose the remaining 4. So they need to win 0 matches"
   ]
  },
  {
   "cell_type": "code",
   "execution_count": 28,
   "metadata": {
    "colab": {},
    "colab_type": "code",
    "id": "oisamlhxdSsp",
    "scrolled": true
   },
   "outputs": [
    {
     "name": "stdout",
     "output_type": "stream",
     "text": [
      "# Test Cases:2\n",
      "Test Case110 5\n",
      "Output:5\n",
      "Test Case21 5 \n",
      "Output: 0\n"
     ]
    }
   ],
   "source": [
    "# Write a function\n",
    "def Min_Wins_RCB(T):\n",
    "    for i in range(T):\n",
    "        Test_Case = [int(x) for x in input('Test Case ' + str(i+1)+':').split()]\n",
    "        if (Test_Case[0] > Test_Case[1]):\n",
    "            print('Output:' + str(int(Test_Case[0] / 2) + Test_Case[0] % 2))\n",
    "        else:\n",
    "            print('Output: 0')\n",
    "\n",
    "# Call the function\n",
    "Min_Wins_RCB(int(input('# Test Cases:')))"
   ]
  },
  {
   "cell_type": "code",
   "execution_count": 27,
   "metadata": {},
   "outputs": [
    {
     "name": "stdout",
     "output_type": "stream",
     "text": [
      "Input:\n",
      "2\n",
      "10 5\n",
      "1 5\n",
      "\n",
      "Output:\n",
      "5\n",
      "0\n"
     ]
    }
   ],
   "source": [
    "# Write a function\n",
    "def Min_Wins_RCB(T):\n",
    "    Test_Cases = []\n",
    "    for i in range(T):\n",
    "        Test_Cases.append([int(x) for x in input().split()])\n",
    "    print('\\nOutput:')\n",
    "    for i in range(T):\n",
    "        if (Test_Cases[i][0] > Test_Cases[i][1]):\n",
    "            print(int(Test_Cases[i][0] / 2) + Test_Cases[i][0] % 2)\n",
    "        else:\n",
    "            print(0)\n",
    "\n",
    "# Call the function\n",
    "Min_Wins_RCB(int(input('Input:\\n')))"
   ]
  },
  {
   "cell_type": "markdown",
   "metadata": {
    "colab_type": "text",
    "id": "jVlPocQWKzUz"
   },
   "source": [
    "# **2) Special Sum**\n",
    "\n",
    "Given an array of size N and two integers K and S, the special sum of an array is defined as follows:\n",
    "\n",
    "(Sum of all elements of the array) * (K - p * S)\n",
    "\n",
    "Where p = number of distinct prime factors of “product of all elements of the array”.\n",
    "\n",
    "Write a function to find the special sum by considering all elements of the given array.\n",
    "<hr>\n",
    "\n",
    "Input:\n",
    "\n",
    "First line contains 3 integers N, K and S.\n",
    "\n",
    "Second line contains N integers, the elements of the array.\n",
    "\n",
    "Output:\n",
    "\n",
    "Output a single integer. The special sum considering all elements of the array.\n",
    "\n",
    "Sample Input:\n",
    "\n",
    "3 10 2\n",
    "\n",
    "14 2 7\n",
    "\n",
    "Sample Output:\n",
    "\n",
    "138\n",
    "\n",
    "Sample Explanation:\n",
    "\n",
    "Consider the array {14, 2, 7}\n",
    "\n",
    "Total number of distinct prime factors in it is 2 (2 and 7).\n",
    "\n",
    "Therefore, value of special sum is (14 + 2 + 7) * (10 - 2 * 2) = 138.\n",
    "\n",
    "Hint: You can write 2 functions. 1st, to find if the factor is prime and 2nd, to find the special sum. You are free to use any other method if you want.  "
   ]
  },
  {
   "cell_type": "code",
   "execution_count": 67,
   "metadata": {
    "colab": {},
    "colab_type": "code",
    "id": "tqEmSTnBPgNd"
   },
   "outputs": [
    {
     "name": "stdout",
     "output_type": "stream",
     "text": [
      "3 10 2\n",
      "14 2 7\n"
     ]
    },
    {
     "data": {
      "text/plain": [
       "138"
      ]
     },
     "execution_count": 67,
     "metadata": {},
     "output_type": "execute_result"
    }
   ],
   "source": [
    "# import necessary modules\n",
    "import numpy as np\n",
    "\n",
    "# Write a function to find if the number is prime.\n",
    "def Is_Prime(x):\n",
    "    for i in np.arange(2, x):\n",
    "        if (x % i == 0):\n",
    "            return False\n",
    "    return True\n",
    "\n",
    "# Write a function to find special sum. Pass Array, K ans S as the parameters. Return Special Sum.\n",
    "def Special_Sum(arr, K, S):\n",
    "    arr = np.array(arr)\n",
    "    Sum = np.sum(arr)\n",
    "    p = 0\n",
    "    for divisor in np.arange(2, (np.max(arr))):\n",
    "        if (Is_Prime(divisor)):\n",
    "            flag = True\n",
    "            for number in arr:\n",
    "                if (number % divisor == 0):\n",
    "                    flag = False\n",
    "            if (flag == False):\n",
    "                p = p + 1\n",
    "                # print(divisor)\n",
    "    return (Sum * (K - p * S))\n",
    "\n",
    "# Take inputs from the user\n",
    "n, K, S = [int(x) for x in input().split()]\n",
    "arr = np.array([int(x) for x in input().split()])\n",
    "assert(arr.shape[0] == n)\n",
    "\n",
    "# Call the function\n",
    "Special_Sum(arr, K, S)"
   ]
  },
  {
   "cell_type": "markdown",
   "metadata": {
    "colab_type": "text",
    "id": "bOcK1MfGQFNS"
   },
   "source": [
    "# **3) Recaman’s sequence**\n",
    "\n",
    "Given an integer $n$.  Write a function to print first $n$ elements of Recaman’s sequence.\n",
    "\n",
    "$$ a_n = \\begin{cases} 0 & \\text{if} n = 0 \\\\ a_{n-1} - n & \\text{if } a_{n-1} - n > 0 \\,\\, \\& \\,\\, \\text{not already in the sequence.} \\\\ a_{n-1} + n & \\text{otherwise}\\end{cases} $$\n",
    "\n",
    "<hr>     \n",
    "\n",
    "Input:\n",
    "\n",
    "Integer n>0\n",
    "\n",
    "Output:\n",
    "\n",
    "Array of Recaman's Sequence in ascending order.\n",
    "\n",
    "Examples:\n",
    "\n",
    "Input : n = 6\n",
    "\n",
    "Output : {[0, 1, 3, 6, 2, 7]}\n",
    "\n",
    "Input  : n = 17\n",
    "\n",
    "Output : {[0, 1, 3, 6, 2, 7, 13, 20, 12, 21, \n",
    "         11, 22, 10, 23, 9, 24, 8]}\n",
    "<br><br>\n",
    "Hint: Use Recursion         "
   ]
  },
  {
   "cell_type": "code",
   "execution_count": 90,
   "metadata": {
    "colab": {},
    "colab_type": "code",
    "id": "AlDhHP70ZRY1",
    "scrolled": true
   },
   "outputs": [
    {
     "name": "stdout",
     "output_type": "stream",
     "text": [
      "[  0.   1.   3.   6.   2.   7.  13.  20.  12.  21.  11.  22.  10.  23.\n",
      "   9.  24.   8.  25.  43.  62.  42.  63.  41.  18.  42.  17.  43.  16.\n",
      "  44.  15.  45.  14.  46.  79. 113.  78. 114.  77.  39.  78.  38.  79.\n",
      "  37.  80.  36.  81.  35.  82.  34.  83.  33.  84.  32.  85.  31.  86.\n",
      "  30.  87.  29.  88.  28.  89.  27.  90.  26.  91. 157. 224. 156. 225.]\n"
     ]
    }
   ],
   "source": [
    "# import necessary modules\n",
    "import numpy as np\n",
    "\n",
    "# Write a recursive function taking n as input.\n",
    "def Racaman_Sequence(n, counter = 0, arr = np.array([])):\n",
    "    # print(arr.size)\n",
    "    if arr.size == 0:\n",
    "        arr = np.append(arr, np.array([0]))\n",
    "    else:\n",
    "        if (arr[-1] > counter and np.count_nonzero(arr == arr[-1] - counter) == 0):\n",
    "            arr = np.append(arr, (arr[-1] - counter))\n",
    "        else:\n",
    "            arr = np.append(arr, (arr[-1] + counter))\n",
    "    if (n == 1):\n",
    "        return arr\n",
    "    else:\n",
    "        return (Racaman_Sequence(n - 1, counter + 1, arr))\n",
    "\n",
    "# Call the function.\n",
    "print(Racaman_Sequence(70))\n",
    "\n",
    "# You can add anything else to this code if you feel it is required."
   ]
  },
  {
   "cell_type": "markdown",
   "metadata": {
    "colab_type": "text",
    "id": "CfhmZMxqaDIp"
   },
   "source": [
    "# **4) Fit Square**\n",
    "\n",
    "What is the maximum number of squares of size 2x2 that can be fit in a right angled isosceles triangle of base B.\n",
    "\n",
    "One side of the square must be parallel to the base of the isosceles triangle.\n",
    "\n",
    "Base is the shortest side of the triangle\n",
    "\n",
    "Input:\n",
    "\n",
    "First line contains T, the number of test cases.\n",
    "\n",
    "Each of the following T lines contains 1 integer B.\n",
    "\n",
    "Output:\n",
    "\n",
    "Output exactly T lines, each line containing the required answer.\n",
    "\n",
    "Constraints\n",
    "\n",
    "1 ≤ T ≤ 103\n",
    "\n",
    "1 ≤ B ≤ 104\n",
    "\n",
    "Sample Input:\n",
    "\n",
    "11\n",
    "\n",
    "1\n",
    "\n",
    "2\n",
    "\n",
    "3\n",
    "\n",
    "4\n",
    "\n",
    "5\n",
    "\n",
    "6\n",
    "\n",
    "7\n",
    "\n",
    "8\n",
    "\n",
    "9\n",
    "\n",
    "10\n",
    "\n",
    "11\n",
    "\n",
    "Sample Output:\n",
    "\n",
    "0\n",
    "\n",
    "0\n",
    "\n",
    "0\n",
    "\n",
    "1\n",
    "\n",
    "1\n",
    "\n",
    "3\n",
    "\n",
    "3\n",
    "\n",
    "6\n",
    "\n",
    "6\n",
    "\n",
    "10\n",
    "\n",
    "10"
   ]
  },
  {
   "cell_type": "code",
   "execution_count": null,
   "metadata": {
    "colab": {},
    "colab_type": "code",
    "id": "dalmoVrTi5k-"
   },
   "outputs": [
    {
     "name": "stdout",
     "output_type": "stream",
     "text": [
      "Input:\n",
      "11\n",
      "1\n",
      "2\n",
      "3\n",
      "4\n",
      "5\n",
      "6\n",
      "7\n"
     ]
    }
   ],
   "source": [
    "# You Can Do It !!!\n",
    "def no_squares(x):\n",
    "    n = int(x/2)\n",
    "    return int(n * (n-1) / 2)\n",
    "\n",
    "n = int(input('Input:\\n'))\n",
    "Test_Cases = np.array([])\n",
    "for i in np.arange(n):\n",
    "    Test_Cases = np.append(Test_Cases, int(input()))\n",
    "print('\\nOutput:')\n",
    "for i in np.arange(n):\n",
    "    print(no_squares(Test_Cases[i]))"
   ]
  },
  {
   "cell_type": "markdown",
   "metadata": {
    "colab_type": "text",
    "id": "4sbdWCFsjJ_d"
   },
   "source": [
    "<hr>"
   ]
  }
 ],
 "metadata": {
  "colab": {
   "name": "Week2-Assignment.ipynb",
   "provenance": []
  },
  "kernelspec": {
   "display_name": "Python 3",
   "language": "python",
   "name": "python3"
  },
  "language_info": {
   "codemirror_mode": {
    "name": "ipython",
    "version": 3
   },
   "file_extension": ".py",
   "mimetype": "text/x-python",
   "name": "python",
   "nbconvert_exporter": "python",
   "pygments_lexer": "ipython3",
   "version": "3.8.3"
  }
 },
 "nbformat": 4,
 "nbformat_minor": 1
}
